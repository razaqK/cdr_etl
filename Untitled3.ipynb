{
 "metadata": {
  "name": "",
  "signature": "sha256:e64c9f2f67b51197e477f4777bc042955929e2bfeb01ce75aaf481c99614dcfd"
 },
 "nbformat": 3,
 "nbformat_minor": 0,
 "worksheets": [
  {
   "cells": [
    {
     "cell_type": "code",
     "collapsed": false,
     "input": [
      "from multiprocessing import Pool\n",
      "\n",
      "def f(x):\n",
      "    \n",
      "    return x*x\n",
      "\n",
      "if __name__ == '__main__':\n",
      "    pool = Pool(processes=4)              # start 4 worker processes\n",
      "\n",
      "    result = pool.apply_async(f, (10,))    # evaluate \"f(10)\" asynchronously\n",
      "    print result.get(timeout=1)           # prints \"100\" unless your computer is *very* slow\n",
      "\n",
      "    print pool.map(f, range(10))          # prints \"[0, 1, 4,..., 81]\"\n",
      "\n",
      "    it = pool.imap(f, range(10))\n",
      "    print it.next()                       # prints \"0\"\n",
      "    print it.next()                       # prints \"1\"\n",
      "    print it.next(timeout=1)              # prints \"4\" unless your computer is *very* slow\n",
      "\n",
      "#     import time\n",
      "#     result = pool.apply_async(time.sleep, (10,))\n",
      "#     print result.get(timeout=1)           # raises TimeoutError\n"
     ],
     "language": "python",
     "metadata": {},
     "outputs": [
      {
       "output_type": "stream",
       "stream": "stdout",
       "text": [
        "100\n",
        "[0, 1, 4, 9, 16, 25, 36, 49, 64, 81]\n",
        "0\n",
        "1\n",
        "4\n"
       ]
      }
     ],
     "prompt_number": 1
    },
    {
     "cell_type": "code",
     "collapsed": false,
     "input": [
      "from multiprocessing import Pool\n",
      "import time, datetime as dt, os\n",
      "\n",
      "p = Pool(2)\n",
      "def f(x):\n",
      "     time.sleep(x)\n",
      "     e=dt.datetime.today().strftime(\"%S\")\n",
      "     result = {\"input\":x, \"seconds\":e, \"process\":os.getpid(), \"parent\":os.getppid()}\n",
      "     return result\n",
      "    \n",
      "k= p.map(f, range(6))"
     ],
     "language": "python",
     "metadata": {},
     "outputs": [
      {
       "metadata": {},
       "output_type": "pyout",
       "prompt_number": 12,
       "text": [
        "[{'input': 0, 'parent': 6874, 'process': 6971, 'seconds': '25'},\n",
        " {'input': 1, 'parent': 6874, 'process': 6971, 'seconds': '26'},\n",
        " {'input': 2, 'parent': 6874, 'process': 6972, 'seconds': '27'},\n",
        " {'input': 3, 'parent': 6874, 'process': 6971, 'seconds': '29'},\n",
        " {'input': 4, 'parent': 6874, 'process': 6972, 'seconds': '31'},\n",
        " {'input': 5, 'parent': 6874, 'process': 6971, 'seconds': '34'}]"
       ]
      }
     ],
     "prompt_number": 12
    },
    {
     "cell_type": "code",
     "collapsed": false,
     "input": [],
     "language": "python",
     "metadata": {},
     "outputs": [],
     "prompt_number": 8
    },
    {
     "cell_type": "code",
     "collapsed": false,
     "input": [
      "from multiprocessing import Pool\n",
      "import time, datetime as dt, os\n",
      "\n",
      "p = Pool(5)\n",
      "def f(x):\n",
      "     time.sleep(x)\n",
      "     e=dt.datetime.today().strftime(\"%S\")\n",
      "     result = {\"input\":x, \"seconds\":e, \"process\":os.getpid(), \"parent\":os.getppid()}\n",
      "     return result\n",
      "def fn(x):\n",
      "     print x\n",
      "     e=dt.datetime.today().strftime(\"%S\")\n",
      "     result = {\"seconds\":e, \"process\":os.getpid(), \"parent\":os.getppid()}\n",
      "     return result\n",
      "    \n",
      "lists=[]\n",
      "for i in range(4):\n",
      "    lists.append(i)\n",
      "    \n",
      "result=p.map_async(fn, lists)\n",
      "k=result.get()\n",
      "\n",
      "k"
     ],
     "language": "python",
     "metadata": {},
     "outputs": []
    },
    {
     "cell_type": "code",
     "collapsed": false,
     "input": [
      "from multiprocessing import Pool\n",
      "\n",
      "def fn(x):\n",
      "     print x\n",
      "     e=dt.datetime.today().strftime(\"%S\")\n",
      "     result = {\"seconds\":e, \"process\":os.getpid(), \"parent\":os.getppid()}\n",
      "     return result\n",
      "    \n",
      "p=Pool()\n",
      "\n",
      "for i in range(10):\n",
      "    pool.apply_async(fn, args = (i, ), callback = log_result)\n",
      "pool.close()\n"
     ],
     "language": "python",
     "metadata": {},
     "outputs": [
      {
       "ename": "NameError",
       "evalue": "name 'fn' is not defined",
       "output_type": "pyerr",
       "traceback": [
        "\u001b[1;31m---------------------------------------------------------------------------\u001b[0m\n\u001b[1;31mNameError\u001b[0m                                 Traceback (most recent call last)",
        "\u001b[1;32m<ipython-input-4-87e104705353>\u001b[0m in \u001b[0;36m<module>\u001b[1;34m()\u001b[0m\n\u001b[0;32m      5\u001b[0m \u001b[1;33m\u001b[0m\u001b[0m\n\u001b[0;32m      6\u001b[0m \u001b[1;32mfor\u001b[0m \u001b[0mi\u001b[0m \u001b[1;32min\u001b[0m \u001b[0mrange\u001b[0m\u001b[1;33m(\u001b[0m\u001b[1;36m10\u001b[0m\u001b[1;33m)\u001b[0m\u001b[1;33m:\u001b[0m\u001b[1;33m\u001b[0m\u001b[0m\n\u001b[1;32m----> 7\u001b[1;33m     \u001b[0mpool\u001b[0m\u001b[1;33m.\u001b[0m\u001b[0mapply_async\u001b[0m\u001b[1;33m(\u001b[0m\u001b[0mfn\u001b[0m\u001b[1;33m,\u001b[0m \u001b[0margs\u001b[0m \u001b[1;33m=\u001b[0m \u001b[1;33m(\u001b[0m\u001b[0mi\u001b[0m\u001b[1;33m,\u001b[0m \u001b[1;33m)\u001b[0m\u001b[1;33m,\u001b[0m \u001b[0mcallback\u001b[0m \u001b[1;33m=\u001b[0m \u001b[0mlog_result\u001b[0m\u001b[1;33m)\u001b[0m\u001b[1;33m\u001b[0m\u001b[0m\n\u001b[0m\u001b[0;32m      8\u001b[0m \u001b[0mpool\u001b[0m\u001b[1;33m.\u001b[0m\u001b[0mclose\u001b[0m\u001b[1;33m(\u001b[0m\u001b[1;33m)\u001b[0m\u001b[1;33m\u001b[0m\u001b[0m\n",
        "\u001b[1;31mNameError\u001b[0m: name 'fn' is not defined"
       ]
      }
     ],
     "prompt_number": 4
    }
   ],
   "metadata": {}
  }
 ]
}