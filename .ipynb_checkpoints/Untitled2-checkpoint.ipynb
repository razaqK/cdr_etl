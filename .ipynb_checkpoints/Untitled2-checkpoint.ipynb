{
 "metadata": {
  "name": "",
  "signature": "sha256:8af7e6ccdcbe4165f8ac6deaeddc3a6a7595c4c1b5fd020a8b4fd8e754ecdd84"
 },
 "nbformat": 3,
 "nbformat_minor": 0,
 "worksheets": []
}