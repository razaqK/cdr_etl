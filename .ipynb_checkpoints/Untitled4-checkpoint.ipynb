{
 "metadata": {
  "name": "",
  "signature": "sha256:9e06cee54bedaa583e1e89ac2803cc1676f1b9090ad2dd1e3d1266da4ef760eb"
 },
 "nbformat": 3,
 "nbformat_minor": 0,
 "worksheets": [
  {
   "cells": [
    {
     "cell_type": "code",
     "collapsed": false,
     "input": [
      "from multiprocessing import Pool\n",
      "\n",
      "def f(x):\n",
      "    \n",
      "    return x*x\n",
      "\n",
      "if __name__ == '__main__':\n",
      "    pool = Pool(processes=4)              # start 4 worker processes\n",
      "\n",
      "    result = pool.apply_async(f, (10,))    # evaluate \"f(10)\" asynchronously\n",
      "    print result.get(timeout=1)           # prints \"100\" unless your computer is *very* slow\n",
      "\n",
      "    print pool.map(f, range(10))          # prints \"[0, 1, 4,..., 81]\"\n",
      "\n",
      "    import time\n",
      "    result = pool.apply_async(time.sleep, (1,))\n",
      "    print result.get()           # raises TimeoutError\n"
     ],
     "language": "python",
     "metadata": {},
     "outputs": [
      {
       "output_type": "stream",
       "stream": "stdout",
       "text": [
        "100\n",
        "[0, 1, 4, 9, 16, 25, 36, 49, 64, 81]\n",
        "None"
       ]
      },
      {
       "output_type": "stream",
       "stream": "stdout",
       "text": [
        "\n"
       ]
      }
     ],
     "prompt_number": 2
    },
    {
     "cell_type": "code",
     "collapsed": false,
     "input": [
      "from multiprocessing import Pool\n",
      "import time, datetime as dt, os\n",
      "\n",
      "p = Pool(6)\n",
      "def f(x):\n",
      "     time.sleep(x)\n",
      "     e=dt.datetime.today().strftime(\"%S\")\n",
      "     result = {\"input\":x, \"seconds\":e, \"process\":os.getpid(), \"parent\":os.getppid()}\n",
      "     return result\n",
      "    \n",
      "    \n",
      "    \n",
      "k=p.map(f, range(4))\n",
      "e=k.get()\n",
      "print 'dfd'"
     ],
     "language": "python",
     "metadata": {},
     "outputs": []
    },
    {
     "cell_type": "code",
     "collapsed": false,
     "input": [
      "for i in e:\n",
      "    print i"
     ],
     "language": "python",
     "metadata": {},
     "outputs": [
      {
       "output_type": "stream",
       "stream": "stdout",
       "text": [
        "{'seconds': '29', 'input': 0, 'process': 8855, 'parent': 7525}\n",
        "{'seconds': '30', 'input': 1, 'process': 8855, 'parent': 7525}\n",
        "{'seconds': '31', 'input': 2, 'process': 8856, 'parent': 7525}\n"
       ]
      }
     ],
     "prompt_number": 40
    }
   ],
   "metadata": {}
  }
 ]
}